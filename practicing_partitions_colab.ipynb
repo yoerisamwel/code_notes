{
  "cells": [
    {
      "cell_type": "markdown",
      "metadata": {
        "id": "view-in-github",
        "colab_type": "text"
      },
      "source": [
        "<a href=\"https://colab.research.google.com/github/yoerisamwel/code_notes/blob/main/practicing_partitions_colab.ipynb\" target=\"_parent\"><img src=\"https://colab.research.google.com/assets/colab-badge.svg\" alt=\"Open In Colab\"/></a>"
      ]
    },
    {
      "cell_type": "code",
      "execution_count": 1,
      "metadata": {
        "id": "w1m9uEbLTfhq",
        "colab": {
          "base_uri": "https://localhost:8080/"
        },
        "outputId": "04f9eb0f-a9fe-4a04-f500-a5bd93c7f1a7"
      },
      "outputs": [
        {
          "output_type": "stream",
          "name": "stdout",
          "text": [
            "Hit:1 http://archive.ubuntu.com/ubuntu jammy InRelease\n",
            "Get:2 http://archive.ubuntu.com/ubuntu jammy-updates InRelease [119 kB]\n",
            "Get:3 http://security.ubuntu.com/ubuntu jammy-security InRelease [110 kB]\n",
            "Get:4 https://cloud.r-project.org/bin/linux/ubuntu jammy-cran40/ InRelease [3,626 B]\n",
            "Get:5 https://developer.download.nvidia.com/compute/cuda/repos/ubuntu2204/x86_64  InRelease [1,581 B]\n",
            "Hit:6 http://archive.ubuntu.com/ubuntu jammy-backports InRelease\n",
            "Hit:7 https://ppa.launchpadcontent.net/c2d4u.team/c2d4u4.0+/ubuntu jammy InRelease\n",
            "Hit:8 https://ppa.launchpadcontent.net/deadsnakes/ppa/ubuntu jammy InRelease\n",
            "Get:9 https://ppa.launchpadcontent.net/graphics-drivers/ppa/ubuntu jammy InRelease [24.3 kB]\n",
            "Get:10 https://ppa.launchpadcontent.net/ubuntugis/ppa/ubuntu jammy InRelease [23.8 kB]\n",
            "Get:11 https://developer.download.nvidia.com/compute/cuda/repos/ubuntu2204/x86_64  Packages [665 kB]\n",
            "Get:12 http://archive.ubuntu.com/ubuntu jammy-updates/universe amd64 Packages [1,326 kB]\n",
            "Get:13 http://archive.ubuntu.com/ubuntu jammy-updates/restricted amd64 Packages [1,722 kB]\n",
            "Get:14 http://archive.ubuntu.com/ubuntu jammy-updates/main amd64 Packages [1,677 kB]\n",
            "Get:15 http://security.ubuntu.com/ubuntu jammy-security/main amd64 Packages [1,398 kB]\n",
            "Get:16 http://security.ubuntu.com/ubuntu jammy-security/restricted amd64 Packages [1,685 kB]\n",
            "Get:17 http://security.ubuntu.com/ubuntu jammy-security/universe amd64 Packages [1,060 kB]\n",
            "Get:18 https://ppa.launchpadcontent.net/graphics-drivers/ppa/ubuntu jammy/main amd64 Packages [44.4 kB]\n",
            "Get:19 https://ppa.launchpadcontent.net/ubuntugis/ppa/ubuntu jammy/main amd64 Packages [66.2 kB]\n",
            "Fetched 9,927 kB in 6s (1,742 kB/s)\n",
            "Reading package lists... Done\n"
          ]
        }
      ],
      "source": [
        "import os\n",
        "# Find the latest version of spark 3.x  from http://www.apache.org/dist/spark/ and enter as the spark version\n",
        "# For example:\n",
        "# spark_version = 'spark-3.4.0'\n",
        "spark_version = 'spark-3.5.0'\n",
        "os.environ['SPARK_VERSION']=spark_version\n",
        "\n",
        "# Install Spark and Java\n",
        "!apt-get update\n",
        "!apt-get install openjdk-11-jdk-headless -qq > /dev/null\n",
        "!wget -q https://archive.apache.org/dist/spark/spark-3.5.0/spark-3.5.0-bin-hadoop3.tgz\n",
        "!tar xf $SPARK_VERSION-bin-hadoop3.tgz\n",
        "!pip install -q findspark\n",
        "\n",
        "# Set Environment Variables\n",
        "os.environ[\"JAVA_HOME\"] = \"/usr/lib/jvm/java-11-openjdk-amd64\"\n",
        "os.environ[\"SPARK_HOME\"] = f\"/content/{spark_version}-bin-hadoop3\"\n",
        "\n",
        "# Start a SparkSession\n",
        "import findspark\n",
        "findspark.init()"
      ]
    },
    {
      "cell_type": "code",
      "execution_count": 2,
      "metadata": {
        "id": "wdpzXrYLTgcq"
      },
      "outputs": [],
      "source": [
        "# Import packages\n",
        "from pyspark.sql import SparkSession\n",
        "import time\n",
        "\n",
        "# Create a SparkSession\n",
        "spark = SparkSession.builder\\\n",
        "    .appName(\"SparkSQL\")\\\n",
        "    .config(\"spark.sql.debug.maxToStringFields\", 2000)\\\n",
        "    .config(\"spark.driver.memory\", \"2g\")\\\n",
        "    .getOrCreate()"
      ]
    },
    {
      "cell_type": "code",
      "execution_count": 3,
      "metadata": {
        "colab": {
          "base_uri": "https://localhost:8080/"
        },
        "id": "SyGdKF4mTguN",
        "outputId": "0c5fea87-4301-4443-d09e-a620edc07aac"
      },
      "outputs": [
        {
          "output_type": "stream",
          "name": "stdout",
          "text": [
            "+---+----+-----+----------+---------+-------+----------+-------+----------+-------------+---------+-------+-----------------+--------------+-------+--------+--------+------+----+--------+------+-------+---------+----------------+--------+------------+------------+--------+-------------+-----------------+\n",
            "| id|Year|Month|DayofMonth|DayOfWeek|DepTime|CRSDepTime|ArrTime|CRSArrTime|UniqueCarrier|FlightNum|TailNum|ActualElapsedTime|CRSElapsedTime|AirTime|ArrDelay|DepDelay|Origin|Dest|Distance|TaxiIn|TaxiOut|Cancelled|CancellationCode|Diverted|CarrierDelay|WeatherDelay|NASDelay|SecurityDelay|LateAircraftDelay|\n",
            "+---+----+-----+----------+---------+-------+----------+-------+----------+-------------+---------+-------+-----------------+--------------+-------+--------+--------+------+----+--------+------+-------+---------+----------------+--------+------------+------------+--------+-------------+-----------------+\n",
            "|  0|2008|    1|         3|        4|   2003|      1955|   2211|      2225|           WN|      335| N712SW|              128|           150|    116|     -14|       8|   IAD| TPA|     810|     4|      8|        0|               N|       0|        NULL|        NULL|    NULL|         NULL|             NULL|\n",
            "|  1|2008|    1|         3|        4|    754|       735|   1002|      1000|           WN|     3231| N772SW|              128|           145|    113|       2|      19|   IAD| TPA|     810|     5|     10|        0|               N|       0|        NULL|        NULL|    NULL|         NULL|             NULL|\n",
            "|  2|2008|    1|         3|        4|    628|       620|    804|       750|           WN|      448| N428WN|               96|            90|     76|      14|       8|   IND| BWI|     515|     3|     17|        0|               N|       0|        NULL|        NULL|    NULL|         NULL|             NULL|\n",
            "|  4|2008|    1|         3|        4|   1829|      1755|   1959|      1925|           WN|     3920| N464WN|               90|            90|     77|      34|      34|   IND| BWI|     515|     3|     10|        0|               N|       0|           2|           0|       0|            0|               32|\n",
            "|  5|2008|    1|         3|        4|   1940|      1915|   2121|      2110|           WN|      378| N726SW|              101|           115|     87|      11|      25|   IND| JAX|     688|     4|     10|        0|               N|       0|        NULL|        NULL|    NULL|         NULL|             NULL|\n",
            "|  6|2008|    1|         3|        4|   1937|      1830|   2037|      1940|           WN|      509| N763SW|              240|           250|    230|      57|      67|   IND| LAS|    1591|     3|      7|        0|               N|       0|          10|           0|       0|            0|               47|\n",
            "| 10|2008|    1|         3|        4|    706|       700|    916|       915|           WN|      100| N690SW|              130|           135|    106|       1|       6|   IND| MCO|     828|     5|     19|        0|               N|       0|        NULL|        NULL|    NULL|         NULL|             NULL|\n",
            "| 11|2008|    1|         3|        4|   1644|      1510|   1845|      1725|           WN|     1333| N334SW|              121|           135|    107|      80|      94|   IND| MCO|     828|     6|      8|        0|               N|       0|           8|           0|       0|            0|               72|\n",
            "| 15|2008|    1|         3|        4|   1029|      1020|   1021|      1010|           WN|     2272| N263WN|               52|            50|     37|      11|       9|   IND| MDW|     162|     6|      9|        0|               N|       0|        NULL|        NULL|    NULL|         NULL|             NULL|\n",
            "| 16|2008|    1|         3|        4|   1452|      1425|   1640|      1625|           WN|      675| N286WN|              228|           240|    213|      15|      27|   IND| PHX|    1489|     7|      8|        0|               N|       0|           3|           0|       0|            0|               12|\n",
            "| 17|2008|    1|         3|        4|    754|       745|    940|       955|           WN|     1144| N778SW|              226|           250|    205|     -15|       9|   IND| PHX|    1489|     5|     16|        0|               N|       0|        NULL|        NULL|    NULL|         NULL|             NULL|\n",
            "| 18|2008|    1|         3|        4|   1323|      1255|   1526|      1510|           WN|        4| N674AA|              123|           135|    110|      16|      28|   IND| TPA|     838|     4|      9|        0|               N|       0|           0|           0|       0|            0|               16|\n",
            "| 19|2008|    1|         3|        4|   1416|      1325|   1512|      1435|           WN|       54| N643SW|               56|            70|     49|      37|      51|   ISP| BWI|     220|     2|      5|        0|               N|       0|          12|           0|       0|            0|               25|\n",
            "| 21|2008|    1|         3|        4|   1657|      1625|   1754|      1735|           WN|      623| N724SW|               57|            70|     47|      19|      32|   ISP| BWI|     220|     5|      5|        0|               N|       0|           7|           0|       0|            0|               12|\n",
            "| 22|2008|    1|         3|        4|   1900|      1840|   1956|      1950|           WN|      717| N786SW|               56|            70|     49|       6|      20|   ISP| BWI|     220|     2|      5|        0|               N|       0|        NULL|        NULL|    NULL|         NULL|             NULL|\n",
            "| 23|2008|    1|         3|        4|   1039|      1030|   1133|      1140|           WN|     1244| N714CB|               54|            70|     47|      -7|       9|   ISP| BWI|     220|     2|      5|        0|               N|       0|        NULL|        NULL|    NULL|         NULL|             NULL|\n",
            "| 25|2008|    1|         3|        4|   1520|      1455|   1619|      1605|           WN|     2553| N394SW|               59|            70|     50|      14|      25|   ISP| BWI|     220|     2|      7|        0|               N|       0|        NULL|        NULL|    NULL|         NULL|             NULL|\n",
            "| 26|2008|    1|         3|        4|   1422|      1255|   1657|      1610|           WN|      188| N215WN|              155|           195|    143|      47|      87|   ISP| FLL|    1093|     6|      6|        0|               N|       0|          40|           0|       0|            0|                7|\n",
            "| 27|2008|    1|         3|        4|   1954|      1925|   2239|      2235|           WN|     1754| N243WN|              165|           190|    155|       4|      29|   ISP| FLL|    1093|     3|      7|        0|               N|       0|        NULL|        NULL|    NULL|         NULL|             NULL|\n",
            "| 30|2008|    1|         3|        4|   2107|      1945|   2334|      2230|           WN|      362| N798SW|              147|           165|    134|      64|      82|   ISP| MCO|     972|     6|      7|        0|               N|       0|           5|           0|       0|            0|               59|\n",
            "+---+----+-----+----------+---------+-------+----------+-------+----------+-------------+---------+-------+-----------------+--------------+-------+--------+--------+------+----+--------+------+-------+---------+----------------+--------+------------+------------+--------+-------------+-----------------+\n",
            "only showing top 20 rows\n",
            "\n"
          ]
        }
      ],
      "source": [
        "# Read in data from S3 Bucket\n",
        "from pyspark import SparkFiles\n",
        "url = \"https://2u-data-curriculum-team.s3.amazonaws.com/dataviz-classroom/v1.2/22-big-data/3/DelayedFlights.csv\"\n",
        "spark.sparkContext.addFile(url)\n",
        "df = spark.read.csv(SparkFiles.get(\"DelayedFlights.csv\"), sep=\",\", header=True)\n",
        "df.show()"
      ]
    },
    {
      "cell_type": "code",
      "execution_count": 7,
      "metadata": {
        "colab": {
          "base_uri": "https://localhost:8080/"
        },
        "id": "daHsHUbSTzaj",
        "outputId": "b200d7a0-f25e-49f2-ee7a-7bab98dab6ff"
      },
      "outputs": [
        {
          "output_type": "stream",
          "name": "stdout",
          "text": [
            "+----------------+-------------+\n",
            "|origin_dest_pair|sum(Distance)|\n",
            "+----------------+-------------+\n",
            "|          SMFONT|     280858.0|\n",
            "|          DENMCI|     498355.0|\n",
            "|          ALBTPA|      24860.0|\n",
            "|          TULAUS|       7242.0|\n",
            "|          CLTSRQ|      13128.0|\n",
            "|          TULORD|     224640.0|\n",
            "|          LGAPIT|      50250.0|\n",
            "|          SLCPHL|     138672.0|\n",
            "|          MEIATL|      20025.0|\n",
            "|          GRBMQT|      10184.0|\n",
            "|          SEASTL|     141930.0|\n",
            "|          JAXBNA|     110352.0|\n",
            "|          LAXOAK|     469778.0|\n",
            "|          MCISAN|     137299.0|\n",
            "|          PVDFLL|      34452.0|\n",
            "|          SANMRY|      29328.0|\n",
            "|          IAHMCI|     278419.0|\n",
            "|          IAHMKE|     271584.0|\n",
            "|          CLEORD|     283452.0|\n",
            "|          DALIAH|      99169.0|\n",
            "+----------------+-------------+\n",
            "only showing top 20 rows\n",
            "\n",
            "--- 5.747776031494141 seconds ---\n"
          ]
        }
      ],
      "source": [
        "# Create temp view named \"delays\"\n",
        "df.createOrReplaceTempView('delays_view')\n",
        "\n",
        "# Start the runtime\n",
        "start_time = time.time()\n",
        "\n",
        "# Using spark.sql write a query that gives you the total distance\n",
        "# and the count of every unique Origin, Dest combination.\n",
        "spark.sql(\"\"\"SELECT concat(Origin, Dest) AS origin_dest_pair ,sum(Distance) FROM delays_view group by origin_dest_pair\"\"\").show()\n",
        "\n",
        "# Print out the runtime.\n",
        "print(\"--- %s seconds ---\" % (time.time() - start_time))"
      ]
    },
    {
      "cell_type": "code",
      "execution_count": 8,
      "metadata": {
        "id": "EVQQPzgiUgTg"
      },
      "outputs": [],
      "source": [
        "# Write out the data in parquet format\n",
        "df.write.parquet('parquet_delays', mode='overwrite')"
      ]
    },
    {
      "cell_type": "code",
      "execution_count": 9,
      "metadata": {
        "id": "1fjWZBkMUuIQ"
      },
      "outputs": [],
      "source": [
        "# Read in our new parquet formatted data\n",
        "p_df=spark.read.parquet('parquet_delays')"
      ]
    },
    {
      "cell_type": "code",
      "execution_count": 11,
      "metadata": {
        "id": "O9Vj-1tAVMxZ"
      },
      "outputs": [],
      "source": [
        "# Convert the DataFrame to a view.\n",
        "p_df.createOrReplaceTempView('delays_view_2')"
      ]
    },
    {
      "cell_type": "code",
      "execution_count": 13,
      "metadata": {
        "colab": {
          "base_uri": "https://localhost:8080/"
        },
        "id": "W1upPNu4VFnm",
        "outputId": "3a45452b-1e0a-4890-b3d7-f7d15655bd39"
      },
      "outputs": [
        {
          "output_type": "stream",
          "name": "stdout",
          "text": [
            "+----------------+-------------+\n",
            "|origin_dest_pair|sum(Distance)|\n",
            "+----------------+-------------+\n",
            "|          SMFONT|     280858.0|\n",
            "|          DENMCI|     498355.0|\n",
            "|          ALBTPA|      24860.0|\n",
            "|          TULAUS|       7242.0|\n",
            "|          CLTSRQ|      13128.0|\n",
            "|          TULORD|     224640.0|\n",
            "|          LGAPIT|      50250.0|\n",
            "|          SLCPHL|     138672.0|\n",
            "|          MEIATL|      20025.0|\n",
            "|          GRBMQT|      10184.0|\n",
            "|          SEASTL|     141930.0|\n",
            "|          JAXBNA|     110352.0|\n",
            "|          LAXOAK|     469778.0|\n",
            "|          MCISAN|     137299.0|\n",
            "|          PVDFLL|      34452.0|\n",
            "|          SANMRY|      29328.0|\n",
            "|          IAHMCI|     278419.0|\n",
            "|          IAHMKE|     271584.0|\n",
            "|          CLEORD|     283452.0|\n",
            "|          DALIAH|      99169.0|\n",
            "+----------------+-------------+\n",
            "only showing top 20 rows\n",
            "\n",
            "--- 3.02018666267395 seconds ---\n"
          ]
        }
      ],
      "source": [
        "# Start the runtime\n",
        "start_time = time.time()\n",
        "\n",
        "# Run the same query here\n",
        "spark.sql(\"\"\"SELECT concat(Origin, Dest) AS origin_dest_pair ,sum(Distance) FROM delays_view_2 group by origin_dest_pair\"\"\").show()\n",
        "\n",
        "# Print out the runtime\n",
        "print(\"--- %s seconds ---\" % (time.time() - start_time))"
      ]
    },
    {
      "cell_type": "code",
      "execution_count": 20,
      "metadata": {
        "id": "RxtycEtOVQrZ"
      },
      "outputs": [],
      "source": [
        "# Write out your parquet data, partitioning on the Origin column\n",
        "from pyspark.sql.functions import concat, col\n",
        "p_df = p_df.withColumn(\"origin_dest_pair\", concat(col(\"Origin\"), col(\"Dest\")))\n",
        "\n",
        "p_df.write.partitionBy(\"origin_dest_pair\").parquet(\"parquet_delays_data2\")"
      ]
    },
    {
      "cell_type": "code",
      "execution_count": 21,
      "metadata": {
        "id": "TMpsNLamXM9N"
      },
      "outputs": [],
      "source": [
        "# Read in our new parquet formatted data\n",
        "parquet_df = spark.read.parquet(\"parquet_delays_data2\")\n"
      ]
    },
    {
      "cell_type": "code",
      "execution_count": 22,
      "metadata": {
        "id": "KX3wglAtWEbI"
      },
      "outputs": [],
      "source": [
        "# Convert the dataframe to a view.\n",
        "parquet_df.createOrReplaceTempView(\"my_parquet_view\")\n"
      ]
    },
    {
      "cell_type": "code",
      "execution_count": 27,
      "metadata": {
        "colab": {
          "base_uri": "https://localhost:8080/"
        },
        "id": "LOR5HfhRVzmG",
        "outputId": "e4a3ee08-e221-4bd4-a648-ad254a4fab91"
      },
      "outputs": [
        {
          "output_type": "stream",
          "name": "stdout",
          "text": [
            "+----------------+--------------+\n",
            "|origin_dest_pair|total_distance|\n",
            "+----------------+--------------+\n",
            "|          LAXPHX|      510970.0|\n",
            "|          DALHOU|      442150.0|\n",
            "|          LASPHX|      400640.0|\n",
            "|          LAXSFO|      879233.0|\n",
            "|          LASLAX|      499612.0|\n",
            "|          EWRATL|      902940.0|\n",
            "|          DFWORD|     1306458.0|\n",
            "|          MSPORD|      517700.0|\n",
            "|          LGAATL|     1224449.0|\n",
            "|          PHXLAS|      461056.0|\n",
            "|          DENSLC|      593147.0|\n",
            "|          HOUDAL|      470591.0|\n",
            "|          PHXLAX|      622710.0|\n",
            "|          LGAORD|     1445476.0|\n",
            "|          ORDEWR|     1147524.0|\n",
            "|          ORDLGA|     1828102.0|\n",
            "|          ATLLGA|     1534176.0|\n",
            "|          LAXLAS|      402852.0|\n",
            "|          ATLEWR|     1065350.0|\n",
            "|          SFOLAX|      753532.0|\n",
            "+----------------+--------------+\n",
            "only showing top 20 rows\n",
            "\n",
            "--- 31.06057858467102 seconds ---\n"
          ]
        }
      ],
      "source": [
        "# Start the runtime\n",
        "start_time = time.time()\n",
        "\n",
        "# Run your query against your partitioned data one more time.\n",
        "result_df = spark.sql(\"\"\"\n",
        "    SELECT concat(Origin, Dest) AS origin_dest_pair, sum(Distance) AS total_distance\n",
        "    FROM my_parquet_view\n",
        "    GROUP BY concat(Origin, Dest)\n",
        "\"\"\")\n",
        "result_df.show()\n",
        "\n",
        "# Print out the runtime\n",
        "print(\"--- %s seconds ---\" % (time.time() - start_time))"
      ]
    },
    {
      "cell_type": "code",
      "execution_count": 39,
      "metadata": {
        "colab": {
          "base_uri": "https://localhost:8080/"
        },
        "id": "w1LbeemvWsRa",
        "outputId": "8b8ad783-9534-4377-e357-39553666d3d9"
      },
      "outputs": [
        {
          "output_type": "stream",
          "name": "stdout",
          "text": [
            "--- 0.014871597290039062 seconds ---\n",
            "+----------------+--------------+\n",
            "|origin_dest_pair|total_distance|\n",
            "+----------------+--------------+\n",
            "|          LAXSFO|      879233.0|\n",
            "+----------------+--------------+\n",
            "\n"
          ]
        }
      ],
      "source": [
        "# Start  the runtime\n",
        "start_time = time.time()\n",
        "\n",
        "# Filter the data on something that selects your partition choice.\n",
        "filtered_df = result_df.filter(\"origin_dest_pair = 'LAXSFO'\")\n",
        "# Print out the runtime.\n",
        "print(\"--- %s seconds ---\" % (time.time() - start_time))\n",
        "filtered_df.show()\n"
      ]
    },
    {
      "cell_type": "code",
      "execution_count": 40,
      "metadata": {
        "colab": {
          "base_uri": "https://localhost:8080/"
        },
        "id": "e3wGOJK3Xrnu",
        "outputId": "ac207e46-0ed4-4165-f5f9-d87645f3da04"
      },
      "outputs": [
        {
          "output_type": "stream",
          "name": "stdout",
          "text": [
            "+----------------+--------------+\n",
            "|origin_dest_pair|total_distance|\n",
            "+----------------+--------------+\n",
            "|          ATLLGA|     1534176.0|\n",
            "+----------------+--------------+\n",
            "\n",
            "--- 22.98924469947815 seconds ---\n"
          ]
        }
      ],
      "source": [
        "# Start  the runtime\n",
        "start_time = time.time()\n",
        "\n",
        "# Filter the data on something that has nothing to do with your partition choice.\n",
        "filtered_df = result_df.filter(\"origin_dest_pair = 'ATLLGA'\")\n",
        "filtered_df.show()\n",
        "# Print out the runtime.\n",
        "print(\"--- %s seconds ---\" % (time.time() - start_time))"
      ]
    },
    {
      "cell_type": "code",
      "execution_count": null,
      "metadata": {
        "id": "TOczG8ekAhjL"
      },
      "outputs": [],
      "source": []
    }
  ],
  "metadata": {
    "colab": {
      "provenance": [],
      "include_colab_link": true
    },
    "kernelspec": {
      "display_name": "Python 3 (ipykernel)",
      "language": "python",
      "name": "python3"
    },
    "language_info": {
      "codemirror_mode": {
        "name": "ipython",
        "version": 3
      },
      "file_extension": ".py",
      "mimetype": "text/x-python",
      "name": "python",
      "nbconvert_exporter": "python",
      "pygments_lexer": "ipython3",
      "version": "3.10.4"
    },
    "vscode": {
      "interpreter": {
        "hash": "aee8b7b246df8f9039afb4144a1f6fd8d2ca17a180786b69acc140d282b71a49"
      }
    }
  },
  "nbformat": 4,
  "nbformat_minor": 0
}