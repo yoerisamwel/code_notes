{
 "cells": [
  {
   "cell_type": "code",
   "execution_count": 6,
   "id": "58b1409e",
   "metadata": {},
   "outputs": [],
   "source": [
    "#!pip install xlsxwriter"
   ]
  },
  {
   "cell_type": "code",
   "execution_count": 7,
   "id": "cd1ff598",
   "metadata": {},
   "outputs": [],
   "source": [
    "# Re-import pandas and create the DataFrame again in case the cell is run independently\n",
    "import pandas as pd"
   ]
  },
  {
   "cell_type": "code",
   "execution_count": 8,
   "id": "e2c2e550",
   "metadata": {},
   "outputs": [],
   "source": [
    "# Sample DataFrame recreated\n",
    "df = pd.DataFrame({\n",
    "    'Name': ['John', 'Anna', 'Peter', 'Linda'],\n",
    "    'Sales': [300, 150, 200, 400]\n",
    "})"
   ]
  },
  {
   "cell_type": "code",
   "execution_count": 11,
   "id": "240a1c0c",
   "metadata": {},
   "outputs": [],
   "source": [
    "# Specify the filename for the Excel file with a chart\n",
    "filename_with_chart = \"sales_report_with_chart.xlsx\""
   ]
  },
  {
   "cell_type": "code",
   "execution_count": 12,
   "id": "2ccf9be7",
   "metadata": {},
   "outputs": [],
   "source": [
    "# Using xlsxwriter as the engine for writing with a chart\n",
    "writer_with_chart = pd.ExcelWriter(filename_with_chart, engine='xlsxwriter')\n",
    "df.to_excel(writer_with_chart, sheet_name='Sheet1', index=False)\n",
    "\n",
    "# Get the xlsxwriter workbook and worksheet objects again\n",
    "workbook = writer_with_chart.book\n",
    "worksheet = writer_with_chart.sheets['Sheet1']\n",
    "\n",
    "# Add a formula to sum the sales, same as before\n",
    "worksheet.write('C6', '=SUM(B2:B5)')\n",
    "\n",
    "# Create a new chart object - column chart in this example\n",
    "chart = workbook.add_chart({'type': 'column'})\n",
    "\n",
    "# Configure the series of the chart. Note: Excel's indexing starts from 1\n",
    "chart.add_series({\n",
    "    'name': '=Sheet1!$B$1',  # Legend name\n",
    "    'categories': '=Sheet1!$A$2:$A$5',  # Categories (X-axis labels)\n",
    "    'values': '=Sheet1!$B$2:$B$5',  # Values (Y-axis data)\n",
    "})\n",
    "\n",
    "# Add a chart title and axis labels\n",
    "chart.set_title({'name': 'Sales Data'})\n",
    "chart.set_x_axis({'name': 'Employee'})\n",
    "chart.set_y_axis({'name': 'Sales'})"
   ]
  },
  {
   "cell_type": "code",
   "execution_count": 13,
   "id": "927eb5fb",
   "metadata": {},
   "outputs": [
    {
     "name": "stderr",
     "output_type": "stream",
     "text": [
      "C:\\Users\\yoeri.samwel\\AppData\\Local\\Temp\\1\\ipykernel_1188\\1741570302.py:5: FutureWarning: save is not part of the public API, usage can give unexpected results and will be removed in a future version\n",
      "  writer_with_chart.save()\n"
     ]
    },
    {
     "data": {
      "text/plain": [
       "'sales_report_with_chart.xlsx'"
      ]
     },
     "execution_count": 13,
     "metadata": {},
     "output_type": "execute_result"
    }
   ],
   "source": [
    "# Insert the chart into the worksheet\n",
    "worksheet.insert_chart('D2', chart)\n",
    "\n",
    "# Close the writer to save the file with the chart\n",
    "writer_with_chart.save()\n",
    "\n",
    "# Provide the path to the saved file with the chart\n",
    "filename_with_chart"
   ]
  },
  {
   "cell_type": "code",
   "execution_count": null,
   "id": "3a0d9bea",
   "metadata": {},
   "outputs": [],
   "source": []
  },
  {
   "cell_type": "code",
   "execution_count": null,
   "id": "6b4ee49f",
   "metadata": {},
   "outputs": [],
   "source": []
  }
 ],
 "metadata": {
  "kernelspec": {
   "display_name": "Python 3 (ipykernel)",
   "language": "python",
   "name": "python3"
  },
  "language_info": {
   "codemirror_mode": {
    "name": "ipython",
    "version": 3
   },
   "file_extension": ".py",
   "mimetype": "text/x-python",
   "name": "python",
   "nbconvert_exporter": "python",
   "pygments_lexer": "ipython3",
   "version": "3.11.4"
  }
 },
 "nbformat": 4,
 "nbformat_minor": 5
}
