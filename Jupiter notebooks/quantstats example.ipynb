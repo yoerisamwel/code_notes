{
 "cells": [
  {
   "cell_type": "code",
   "execution_count": 3,
   "id": "70ca400a",
   "metadata": {},
   "outputs": [],
   "source": [
    "#!pip install quantstats"
   ]
  },
  {
   "cell_type": "code",
   "execution_count": 9,
   "id": "51373b00",
   "metadata": {},
   "outputs": [
    {
     "name": "stdout",
     "output_type": "stream",
     "text": [
      "Using matplotlib backend: <object object at 0x0000013FFF47B530>\n"
     ]
    }
   ],
   "source": [
    "%matplotlib"
   ]
  },
  {
   "cell_type": "code",
   "execution_count": 10,
   "id": "81c56202",
   "metadata": {},
   "outputs": [],
   "source": [
    "import matplotlib.pyplot as plt\n",
    "import quantstats as qs"
   ]
  },
  {
   "cell_type": "code",
   "execution_count": 15,
   "id": "20dc11be",
   "metadata": {},
   "outputs": [
    {
     "name": "stderr",
     "output_type": "stream",
     "text": [
      "[*********************100%%**********************]  1 of 1 completed\n"
     ]
    }
   ],
   "source": [
    "# Ensure the correct backend is set\n",
    "plt.switch_backend('TkAgg')\n",
    "\n",
    "stock = qs.utils.download_returns('SPY')\n",
    "qs.plots.snapshot(stock, title='SPY Performance', show=True)"
   ]
  },
  {
   "cell_type": "code",
   "execution_count": null,
   "id": "87e8e5b6",
   "metadata": {},
   "outputs": [],
   "source": [
    "# Advantages of quantstats:\n",
    "# 1. Simplifies performance and risk analysis of financial securities and portfolios.\n",
    "# 2. Offers a wide range of statistical measures for assessing investment performance.\n",
    "# 3. Can generate comprehensive plots and reports for a clear visual understanding of performance.\n",
    "# 4. Integrates seamlessly with pandas for easy manipulation of financial data.\n",
    "# 5. It's open-source and can be easily extended or customized for specific needs."
   ]
  },
  {
   "cell_type": "code",
   "execution_count": null,
   "id": "e5fccbe6",
   "metadata": {},
   "outputs": [],
   "source": [
    "#Benchmarking and Comparing with S&P 500\n",
    "# Download historical returns for a stock and S&P 500 as the benchmark\n",
    "stock = qs.utils.download_returns('AAPL')\n",
    "benchmark = qs.utils.download_returns('SPY')\n",
    "\n",
    "# Extend the plotting capabilities to the entire script\n",
    "qs.extend_pandas()\n",
    "\n",
    "# Benchmarking against S&P 500\n",
    "qs.reports.full(stock, benchmark)\n",
    "\n",
    "'''\n",
    "This code benchmarks Apple's stock against the S&P 500, generating a comprehensive report that includes \n",
    "various performance metrics, such as Sharpe ratio, Win/Loss ratio, and Maximum Drawdown.\n",
    "'''"
   ]
  },
  {
   "cell_type": "code",
   "execution_count": null,
   "id": "3d17d404",
   "metadata": {},
   "outputs": [],
   "source": [
    "#Monthly Returns Heatmap\n",
    "stock = qs.utils.download_returns('AAPL')\n",
    "qs.plots.monthly_heatmap(stock)\n",
    "'''\n",
    "This code creates a heatmap of the monthly returns for Apple's stock, offering a visually \n",
    "intuitive representation of performance across different months and years.\n",
    "'''"
   ]
  },
  {
   "cell_type": "code",
   "execution_count": null,
   "id": "9500b79e",
   "metadata": {},
   "outputs": [],
   "source": [
    "#Rolling Sharpe Ratio\n",
    "stock = qs.utils.download_returns('AAPL')\n",
    "qs.plots.rolling_sharpe(stock)\n",
    "\n",
    "'''\n",
    "This code plots the rolling Sharpe ratio of Apple's stock over time, \n",
    "providing insights into the risk-adjusted return stability\n",
    "'''"
   ]
  },
  {
   "cell_type": "code",
   "execution_count": null,
   "id": "dc029794",
   "metadata": {},
   "outputs": [],
   "source": [
    "#Drawdown Underwater Plot\n",
    "stock = qs.utils.download_returns('AAPL')\n",
    "qs.plots.drawdown_underwater(stock)\n",
    "\n",
    "'''\n",
    "This example generates an \"underwater\" plot, visualizing the drawdown periods of \n",
    "Apple's stock over time. It helps in understanding the magnitude and duration of downward movements.\n",
    "'''"
   ]
  },
  {
   "cell_type": "code",
   "execution_count": null,
   "id": "d8d00acc",
   "metadata": {},
   "outputs": [],
   "source": [
    "#Comparing Two Securities\n",
    "\n",
    "# Download historical returns for two stocks\n",
    "stock1 = qs.utils.download_returns('AAPL')\n",
    "stock2 = qs.utils.download_returns('MSFT')\n",
    "\n",
    "# Plotting the cumulative returns to compare their performance\n",
    "qs.plots.compare([stock1, stock2], title=\"AAPL vs MSFT Cumulative Returns\")\n",
    "\n",
    "'''\n",
    "This example compares the cumulative returns of Apple and Microsoft, illustrating \n",
    "which stock outperformed over the same time period.\n",
    "'''"
   ]
  }
 ],
 "metadata": {
  "kernelspec": {
   "display_name": "Python 3 (ipykernel)",
   "language": "python",
   "name": "python3"
  },
  "language_info": {
   "codemirror_mode": {
    "name": "ipython",
    "version": 3
   },
   "file_extension": ".py",
   "mimetype": "text/x-python",
   "name": "python",
   "nbconvert_exporter": "python",
   "pygments_lexer": "ipython3",
   "version": "3.11.4"
  }
 },
 "nbformat": 4,
 "nbformat_minor": 5
}
