{
  "cells": [
    {
      "cell_type": "markdown",
      "metadata": {
        "id": "view-in-github",
        "colab_type": "text"
      },
      "source": [
        "<a href=\"https://colab.research.google.com/github/yoerisamwel/code_notes/blob/main/Olympic_analysis_colab.ipynb\" target=\"_parent\"><img src=\"https://colab.research.google.com/assets/colab-badge.svg\" alt=\"Open In Colab\"/></a>"
      ]
    },
    {
      "cell_type": "code",
      "execution_count": 2,
      "metadata": {
        "id": "sw2Jr5lXFWIH",
        "colab": {
          "base_uri": "https://localhost:8080/"
        },
        "outputId": "d88e3a7c-38f8-4a15-8c7d-13765331151f"
      },
      "outputs": [
        {
          "output_type": "stream",
          "name": "stdout",
          "text": [
            "\r0% [Working]\r            \rHit:1 http://security.ubuntu.com/ubuntu jammy-security InRelease\n",
            "\r0% [Waiting for headers] [Connected to cloud.r-project.org (52.85.151.129)] [Connecting to ppa.launc\r                                                                                                    \rHit:2 http://archive.ubuntu.com/ubuntu jammy InRelease\n",
            "\r0% [Waiting for headers] [Waiting for headers] [Connecting to ppa.launchpadcontent.net (185.125.190.\r                                                                                                    \rHit:3 https://cloud.r-project.org/bin/linux/ubuntu jammy-cran40/ InRelease\n",
            "\r0% [Waiting for headers] [Connecting to ppa.launchpadcontent.net (185.125.190.80)] [Connected to dev\r                                                                                                    \rHit:4 http://archive.ubuntu.com/ubuntu jammy-updates InRelease\n",
            "\r0% [Waiting for headers] [Connecting to ppa.launchpadcontent.net (185.125.190.80)] [Waiting for head\r                                                                                                    \rHit:5 http://archive.ubuntu.com/ubuntu jammy-backports InRelease\n",
            "Hit:6 https://developer.download.nvidia.com/compute/cuda/repos/ubuntu2204/x86_64  InRelease\n",
            "Hit:7 https://ppa.launchpadcontent.net/c2d4u.team/c2d4u4.0+/ubuntu jammy InRelease\n",
            "Hit:8 https://ppa.launchpadcontent.net/deadsnakes/ppa/ubuntu jammy InRelease\n",
            "Hit:9 https://ppa.launchpadcontent.net/graphics-drivers/ppa/ubuntu jammy InRelease\n",
            "Hit:10 https://ppa.launchpadcontent.net/ubuntugis/ppa/ubuntu jammy InRelease\n",
            "Reading package lists... Done\n"
          ]
        }
      ],
      "source": [
        "import os\n",
        "# Find the latest version of spark 3.x  from http://www.apache.org/dist/spark/ and enter as the spark version\n",
        "# For example:\n",
        "# spark_version = 'spark-3.4.0'\n",
        "spark_version = 'spark-3.5.0'\n",
        "os.environ['SPARK_VERSION']=spark_version\n",
        "\n",
        "# Install Spark and Java\n",
        "!apt-get update\n",
        "!apt-get install openjdk-11-jdk-headless -qq > /dev/null\n",
        "!wget -q https://archive.apache.org/dist/spark/spark-3.5.0/spark-3.5.0-bin-hadoop3.tgz\n",
        "!tar xf $SPARK_VERSION-bin-hadoop3.tgz\n",
        "!pip install -q findspark\n",
        "\n",
        "# Set Environment Variables\n",
        "os.environ[\"JAVA_HOME\"] = \"/usr/lib/jvm/java-11-openjdk-amd64\"\n",
        "os.environ[\"SPARK_HOME\"] = f\"/content/{spark_version}-bin-hadoop3\"\n",
        "\n",
        "# Start a SparkSession\n",
        "import findspark\n",
        "findspark.init()"
      ]
    },
    {
      "cell_type": "code",
      "execution_count": 3,
      "metadata": {
        "id": "YPVEwydNFZss"
      },
      "outputs": [],
      "source": [
        "# Import packages\n",
        "from pyspark.sql import SparkSession\n",
        "from pyspark.sql import Row\n",
        "from pyspark.sql.types import StructType,StructField,StringType, DateType,IntegerType\n",
        "\n",
        "# Create a SparkSession\n",
        "spark = SparkSession.builder.appName(\"SparkSQL\").getOrCreate()"
      ]
    },
    {
      "cell_type": "code",
      "execution_count": 4,
      "metadata": {
        "id": "ymZ-dHdmzfd8",
        "outputId": "9ff9711f-6d90-4ebf-ecde-36ddc20c7b19",
        "colab": {
          "base_uri": "https://localhost:8080/"
        }
      },
      "outputs": [
        {
          "output_type": "stream",
          "name": "stdout",
          "text": [
            "+---+--------------------+---+---+------+------+--------------+---+-----------+----+------+-----------+--------------------+--------------------+-----+\n",
            "| ID|                Name|Sex|Age|Height|Weight|          Team|NOC|      Games|Year|Season|       City|               Sport|               Event|Medal|\n",
            "+---+--------------------+---+---+------+------+--------------+---+-----------+----+------+-----------+--------------------+--------------------+-----+\n",
            "|  1|           A Dijiang|  M| 24|   180|    80|         China|CHN|1992 Summer|1992|Summer|  Barcelona|          Basketball|Basketball Men's ...|   NA|\n",
            "|  2|            A Lamusi|  M| 23|   170|    60|         China|CHN|2012 Summer|2012|Summer|     London|                Judo|Judo Men's Extra-...|   NA|\n",
            "|  3| Gunnar Nielsen Aaby|  M| 24|    NA|    NA|       Denmark|DEN|1920 Summer|1920|Summer|  Antwerpen|            Football|Football Men's Fo...|   NA|\n",
            "|  4|Edgar Lindenau Aabye|  M| 34|    NA|    NA|Denmark/Sweden|DEN|1900 Summer|1900|Summer|      Paris|          Tug-Of-War|Tug-Of-War Men's ...| Gold|\n",
            "|  5|Christine Jacoba ...|  F| 21|   185|    82|   Netherlands|NED|1988 Winter|1988|Winter|    Calgary|       Speed Skating|Speed Skating Wom...|   NA|\n",
            "|  5|Christine Jacoba ...|  F| 21|   185|    82|   Netherlands|NED|1988 Winter|1988|Winter|    Calgary|       Speed Skating|Speed Skating Wom...|   NA|\n",
            "|  5|Christine Jacoba ...|  F| 25|   185|    82|   Netherlands|NED|1992 Winter|1992|Winter|Albertville|       Speed Skating|Speed Skating Wom...|   NA|\n",
            "|  5|Christine Jacoba ...|  F| 25|   185|    82|   Netherlands|NED|1992 Winter|1992|Winter|Albertville|       Speed Skating|Speed Skating Wom...|   NA|\n",
            "|  5|Christine Jacoba ...|  F| 27|   185|    82|   Netherlands|NED|1994 Winter|1994|Winter|Lillehammer|       Speed Skating|Speed Skating Wom...|   NA|\n",
            "|  5|Christine Jacoba ...|  F| 27|   185|    82|   Netherlands|NED|1994 Winter|1994|Winter|Lillehammer|       Speed Skating|Speed Skating Wom...|   NA|\n",
            "|  6|     Per Knut Aaland|  M| 31|   188|    75| United States|USA|1992 Winter|1992|Winter|Albertville|Cross Country Skiing|Cross Country Ski...|   NA|\n",
            "|  6|     Per Knut Aaland|  M| 31|   188|    75| United States|USA|1992 Winter|1992|Winter|Albertville|Cross Country Skiing|Cross Country Ski...|   NA|\n",
            "|  6|     Per Knut Aaland|  M| 31|   188|    75| United States|USA|1992 Winter|1992|Winter|Albertville|Cross Country Skiing|Cross Country Ski...|   NA|\n",
            "|  6|     Per Knut Aaland|  M| 31|   188|    75| United States|USA|1992 Winter|1992|Winter|Albertville|Cross Country Skiing|Cross Country Ski...|   NA|\n",
            "|  6|     Per Knut Aaland|  M| 33|   188|    75| United States|USA|1994 Winter|1994|Winter|Lillehammer|Cross Country Skiing|Cross Country Ski...|   NA|\n",
            "|  6|     Per Knut Aaland|  M| 33|   188|    75| United States|USA|1994 Winter|1994|Winter|Lillehammer|Cross Country Skiing|Cross Country Ski...|   NA|\n",
            "|  6|     Per Knut Aaland|  M| 33|   188|    75| United States|USA|1994 Winter|1994|Winter|Lillehammer|Cross Country Skiing|Cross Country Ski...|   NA|\n",
            "|  6|     Per Knut Aaland|  M| 33|   188|    75| United States|USA|1994 Winter|1994|Winter|Lillehammer|Cross Country Skiing|Cross Country Ski...|   NA|\n",
            "|  7|        John Aalberg|  M| 31|   183|    72| United States|USA|1992 Winter|1992|Winter|Albertville|Cross Country Skiing|Cross Country Ski...|   NA|\n",
            "|  7|        John Aalberg|  M| 31|   183|    72| United States|USA|1992 Winter|1992|Winter|Albertville|Cross Country Skiing|Cross Country Ski...|   NA|\n",
            "+---+--------------------+---+---+------+------+--------------+---+-----------+----+------+-----------+--------------------+--------------------+-----+\n",
            "only showing top 20 rows\n",
            "\n"
          ]
        }
      ],
      "source": [
        "# Read in data from S3 Buckets\n",
        "from pyspark import SparkFiles\n",
        "url = \"https://2u-data-curriculum-team.s3.amazonaws.com/dataviz-classroom/v1.2/22-big-data/2/athlete_events.csv\"\n",
        "spark.sparkContext.addFile(url)\n",
        "df = spark.read.csv(SparkFiles.get(\"athlete_events.csv\"), header=True, inferSchema=True, quote=\"\\\"\", escape=\"\\\"\")\n",
        "\n",
        "# Show DataFrame\n",
        "df.show()"
      ]
    },
    {
      "cell_type": "code",
      "execution_count": 5,
      "metadata": {
        "id": "3_hMkh2sT8jm"
      },
      "outputs": [],
      "source": [
        "#Create a temporary view.\n",
        "df.createOrReplaceTempView('games')"
      ]
    },
    {
      "cell_type": "code",
      "execution_count": 8,
      "metadata": {
        "colab": {
          "base_uri": "https://localhost:8080/"
        },
        "id": "XUJVk6fQYTyy",
        "outputId": "adc2ef2c-e872-4893-ee1d-ce66e2a3b9b7"
      },
      "outputs": [
        {
          "output_type": "stream",
          "name": "stdout",
          "text": [
            "+--------+\n",
            "|count(1)|\n",
            "+--------+\n",
            "|  271116|\n",
            "+--------+\n",
            "\n"
          ]
        }
      ],
      "source": [
        "# Get the numover of distinct sports played in 2016\n",
        "spark.sql(\"SELECT COUNT(*) FROM games\").show()"
      ]
    },
    {
      "cell_type": "code",
      "execution_count": 9,
      "metadata": {
        "colab": {
          "base_uri": "https://localhost:8080/"
        },
        "id": "tXyNWna1ci1v",
        "outputId": "66208775-e1f6-4aac-e29a-f564486af9dd"
      },
      "outputs": [
        {
          "output_type": "stream",
          "name": "stdout",
          "text": [
            "+---------------------+\n",
            "|count(DISTINCT Sport)|\n",
            "+---------------------+\n",
            "|                   66|\n",
            "+---------------------+\n",
            "\n"
          ]
        }
      ],
      "source": [
        "# Get the number of distinct sports played in 2012\n",
        "spark.sql(\"SELECT COUNT(DISTINCT Sport) FROM games\").show()"
      ]
    },
    {
      "cell_type": "code",
      "execution_count": 13,
      "metadata": {
        "colab": {
          "base_uri": "https://localhost:8080/"
        },
        "id": "gmuokNVHe_SH",
        "outputId": "f2fd1d4e-d81c-4b91-92fd-a9607aa4f4ed"
      },
      "outputs": [
        {
          "output_type": "stream",
          "name": "stdout",
          "text": [
            "+---------+\n",
            "|min(Year)|\n",
            "+---------+\n",
            "|     1896|\n",
            "+---------+\n",
            "\n"
          ]
        }
      ],
      "source": [
        "# Write a subquery to get the distinct sports played in 2016 but not in 2012.\n",
        "spark.sql(\"\"\"\n",
        "SELECT DISTINCT Sport\n",
        "FROM games\n",
        "WHERE Year = 2016\n",
        "AND Sport NOT IN (SELECT DISTINCT Sport FROM games WHERE Year = 2012)\n",
        "\"\"\").show()"
      ]
    },
    {
      "cell_type": "markdown",
      "metadata": {
        "id": "tis9fkizgn1q"
      },
      "source": [
        "Question 2: Which sports have been played since the first summer Olympics?"
      ]
    },
    {
      "cell_type": "code",
      "execution_count": null,
      "metadata": {
        "colab": {
          "base_uri": "https://localhost:8080/"
        },
        "id": "Y1edN4Jlfack",
        "outputId": "7384844c-f673-43d0-f4d0-df5c510c0f50"
      },
      "outputs": [
        {
          "name": "stdout",
          "output_type": "stream",
          "text": [
            "+---------+\n",
            "|min(year)|\n",
            "+---------+\n",
            "|     1896|\n",
            "+---------+\n",
            "\n"
          ]
        }
      ],
      "source": [
        "# Get the year of the earliest Olympics in our data\n",
        "spark.sql(\"\"\"\n",
        "SELECT MIN(Year) FROM games\n",
        "\"\"\").show()"
      ]
    },
    {
      "cell_type": "code",
      "execution_count": 14,
      "metadata": {
        "colab": {
          "base_uri": "https://localhost:8080/"
        },
        "id": "av4Lem9VhKh8",
        "outputId": "ff56a8af-781a-4260-abdb-54b4bd649b72"
      },
      "outputs": [
        {
          "output_type": "stream",
          "name": "stdout",
          "text": [
            "+-------------+\n",
            "|        Sport|\n",
            "+-------------+\n",
            "|   Gymnastics|\n",
            "|       Tennis|\n",
            "|     Swimming|\n",
            "|    Athletics|\n",
            "|     Shooting|\n",
            "|    Wrestling|\n",
            "|Weightlifting|\n",
            "|      Cycling|\n",
            "|      Fencing|\n",
            "+-------------+\n",
            "\n"
          ]
        }
      ],
      "source": [
        "# Get the sports that were played in the earliest Olympic games in our data.\n",
        "spark.sql(\"\"\"\n",
        "SELECT DISTINCT Sport\n",
        "FROM games\n",
        "WHERE Year = (SELECT MIN(Year) FROM games)\n",
        "\"\"\").show()"
      ]
    },
    {
      "cell_type": "code",
      "execution_count": 17,
      "metadata": {
        "colab": {
          "base_uri": "https://localhost:8080/"
        },
        "id": "nUqJkqWzhZ67",
        "outputId": "9dead788-6b7b-48a2-9877-d484e348423e"
      },
      "outputs": [
        {
          "output_type": "stream",
          "name": "stdout",
          "text": [
            "+-------------+\n",
            "|        Sport|\n",
            "+-------------+\n",
            "|   Gymnastics|\n",
            "|       Tennis|\n",
            "|     Swimming|\n",
            "|    Athletics|\n",
            "|     Shooting|\n",
            "|    Wrestling|\n",
            "|Weightlifting|\n",
            "|      Cycling|\n",
            "|      Fencing|\n",
            "+-------------+\n",
            "\n"
          ]
        }
      ],
      "source": [
        "# Determine which sports were in both the 1896 Olympics and the 2016 Olympics.\n",
        "spark.sql(\"\"\"\n",
        "SELECT DISTINCT Sport\n",
        "FROM games\n",
        "WHERE Year = 1896\n",
        "AND Sport IN (SELECT DISTINCT Sport FROM games WHERE Year = 2016)\n",
        "\"\"\").show()"
      ]
    },
    {
      "cell_type": "markdown",
      "metadata": {
        "id": "GP4dn8pGjBVF"
      },
      "source": [
        "Question 3: Who are the top 5 athletes that won most gold, silver and bronze medals?"
      ]
    },
    {
      "cell_type": "code",
      "execution_count": 25,
      "metadata": {
        "colab": {
          "base_uri": "https://localhost:8080/"
        },
        "id": "fUDuMDVjjQcy",
        "outputId": "a3a7240d-2628-495c-d588-53556cfc8d30"
      },
      "outputs": [
        {
          "output_type": "stream",
          "name": "stdout",
          "text": [
            "+--------------------+---------+\n",
            "|                Name|TotalGold|\n",
            "+--------------------+---------+\n",
            "|Michael Fred Phel...|       23|\n",
            "|Raymond Clarence ...|       10|\n",
            "|Frederick Carlton...|        9|\n",
            "|Larysa Semenivna ...|        9|\n",
            "|   Mark Andrew Spitz|        9|\n",
            "+--------------------+---------+\n",
            "\n"
          ]
        }
      ],
      "source": [
        "# Who are the top 5 Gold medal winners in the Olympics\n",
        "spark.sql(\"\"\"\n",
        "SELECT Name, COUNT(Medal) as TotalGold\n",
        "FROM games\n",
        "WHERE Medal = 'Gold'\n",
        "GROUP BY Name\n",
        "ORDER BY TotalGold DESC\n",
        "LIMIT 5\n",
        "\"\"\").show()"
      ]
    },
    {
      "cell_type": "code",
      "execution_count": 26,
      "metadata": {
        "colab": {
          "base_uri": "https://localhost:8080/"
        },
        "id": "dCoDsurkP7Q3",
        "outputId": "b75d40e0-eac0-42e7-f2d2-7ca12cc24cf9"
      },
      "outputs": [
        {
          "output_type": "stream",
          "name": "stdout",
          "text": [
            "+--------------------+---------+\n",
            "|                Name|TotalGold|\n",
            "+--------------------+---------+\n",
            "|Shirley Frances B...|        6|\n",
            "|Aleksandr Nikolay...|        6|\n",
            "|           Yang Yang|        6|\n",
            "|Aleksandr Vladimi...|        6|\n",
            "|Mikhail Yakovlevi...|        6|\n",
            "+--------------------+---------+\n",
            "\n"
          ]
        }
      ],
      "source": [
        "# Who are the top 5 Silver medal winners\n",
        "spark.sql(\"\"\"\n",
        "SELECT Name, COUNT(Medal) as TotalGold\n",
        "FROM games\n",
        "WHERE Medal = 'Silver'\n",
        "GROUP BY Name\n",
        "ORDER BY TotalGold DESC\n",
        "LIMIT 5\n",
        "\"\"\").show()\n"
      ]
    },
    {
      "cell_type": "code",
      "execution_count": 27,
      "metadata": {
        "colab": {
          "base_uri": "https://localhost:8080/"
        },
        "id": "GNdWgmuwRw8A",
        "outputId": "3b94cb54-90c3-4b76-ba92-4494c5c551cf"
      },
      "outputs": [
        {
          "output_type": "stream",
          "name": "stdout",
          "text": [
            "+--------------------+---------+\n",
            "|                Name|TotalGold|\n",
            "+--------------------+---------+\n",
            "|Harri Tapani Kirv...|        6|\n",
            "|Franziska van Alm...|        6|\n",
            "|Merlene Joyce Ott...|        6|\n",
            "|Heikki Ilmari Sav...|        6|\n",
            "|Aleksey Yuryevich...|        6|\n",
            "+--------------------+---------+\n",
            "\n"
          ]
        }
      ],
      "source": [
        "# Who are the top 5 Bronze medal winners\n",
        "spark.sql(\"\"\"\n",
        "SELECT Name, COUNT(Medal) as TotalGold\n",
        "FROM games\n",
        "WHERE Medal = 'Bronze'\n",
        "GROUP BY Name\n",
        "ORDER BY TotalGold DESC\n",
        "LIMIT 5\n",
        "\"\"\").show()"
      ]
    },
    {
      "cell_type": "markdown",
      "metadata": {
        "id": "Val6hYwgS7ma"
      },
      "source": [
        "Output the gold medal winners to csv\n",
        "\n",
        "Hint: since we have aggregated our data it is safe to go back to pandas"
      ]
    },
    {
      "cell_type": "code",
      "execution_count": 30,
      "metadata": {
        "id": "8M9WPLOiSOWm"
      },
      "outputs": [],
      "source": [
        "import pandas as pd\n",
        "\n",
        "\n",
        "\n",
        "df.toPandas().to_csv('top5Gold.csv')"
      ]
    },
    {
      "cell_type": "code",
      "execution_count": null,
      "metadata": {
        "id": "JfaKSZ-PTTMR"
      },
      "outputs": [],
      "source": []
    }
  ],
  "metadata": {
    "colab": {
      "provenance": [],
      "include_colab_link": true
    },
    "kernelspec": {
      "display_name": "Python 3 (ipykernel)",
      "language": "python",
      "name": "python3"
    },
    "language_info": {
      "codemirror_mode": {
        "name": "ipython",
        "version": 3
      },
      "file_extension": ".py",
      "mimetype": "text/x-python",
      "name": "python",
      "nbconvert_exporter": "python",
      "pygments_lexer": "ipython3",
      "version": "3.10.4"
    }
  },
  "nbformat": 4,
  "nbformat_minor": 0
}